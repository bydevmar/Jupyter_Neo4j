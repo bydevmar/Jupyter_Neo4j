{
 "cells": [
  {
   "cell_type": "markdown",
   "id": "857a2b11-8d5b-4f78-ac5b-c117fe3e9fde",
   "metadata": {},
   "source": [
    "## Installations des bibliotheques"
   ]
  },
  {
   "cell_type": "code",
   "execution_count": 4,
   "id": "7b8f1f8c-2dbe-49a4-a745-54c8c4c54039",
   "metadata": {},
   "outputs": [
    {
     "name": "stdout",
     "output_type": "stream",
     "text": [
      "Collecting py2neo\n",
      "  Downloading py2neo-2021.2.4-py2.py3-none-any.whl.metadata (9.9 kB)\n",
      "Requirement already satisfied: certifi in c:\\users\\bydevmar\\appdata\\local\\programs\\python\\python312\\lib\\site-packages (from py2neo) (2024.2.2)\n",
      "Collecting interchange~=2021.0.4 (from py2neo)\n",
      "  Downloading interchange-2021.0.4-py2.py3-none-any.whl.metadata (1.9 kB)\n",
      "Collecting monotonic (from py2neo)\n",
      "  Downloading monotonic-1.6-py2.py3-none-any.whl.metadata (1.5 kB)\n",
      "Requirement already satisfied: packaging in c:\\users\\bydevmar\\appdata\\local\\programs\\python\\python312\\lib\\site-packages (from py2neo) (24.0)\n",
      "Collecting pansi>=2020.7.3 (from py2neo)\n",
      "  Downloading pansi-2020.7.3-py2.py3-none-any.whl.metadata (6.0 kB)\n",
      "Requirement already satisfied: pygments>=2.0.0 in c:\\users\\bydevmar\\appdata\\local\\programs\\python\\python312\\lib\\site-packages (from py2neo) (2.17.2)\n",
      "Requirement already satisfied: six>=1.15.0 in c:\\users\\bydevmar\\appdata\\local\\programs\\python\\python312\\lib\\site-packages (from py2neo) (1.16.0)\n",
      "Requirement already satisfied: urllib3 in c:\\users\\bydevmar\\appdata\\local\\programs\\python\\python312\\lib\\site-packages (from py2neo) (2.2.1)\n",
      "Requirement already satisfied: pytz in c:\\users\\bydevmar\\appdata\\local\\programs\\python\\python312\\lib\\site-packages (from interchange~=2021.0.4->py2neo) (2024.1)\n",
      "Downloading py2neo-2021.2.4-py2.py3-none-any.whl (177 kB)\n",
      "   ---------------------------------------- 0.0/177.2 kB ? eta -:--:--\n",
      "   -- ------------------------------------- 10.2/177.2 kB ? eta -:--:--\n",
      "   ------ -------------------------------- 30.7/177.2 kB 330.3 kB/s eta 0:00:01\n",
      "   ------------- ------------------------- 61.4/177.2 kB 469.7 kB/s eta 0:00:01\n",
      "   --------------- ----------------------- 71.7/177.2 kB 438.9 kB/s eta 0:00:01\n",
      "   ------------------------ ------------- 112.6/177.2 kB 547.6 kB/s eta 0:00:01\n",
      "   -------------------------- ----------- 122.9/177.2 kB 450.6 kB/s eta 0:00:01\n",
      "   ------------------------------ ------- 143.4/177.2 kB 426.7 kB/s eta 0:00:01\n",
      "   -------------------------------- ----- 153.6/177.2 kB 399.3 kB/s eta 0:00:01\n",
      "   -------------------------------- ----- 153.6/177.2 kB 399.3 kB/s eta 0:00:01\n",
      "   -------------------------------- ----- 153.6/177.2 kB 399.3 kB/s eta 0:00:01\n",
      "   -------------------------------- ----- 153.6/177.2 kB 399.3 kB/s eta 0:00:01\n",
      "   -------------------------------- ----- 153.6/177.2 kB 399.3 kB/s eta 0:00:01\n",
      "   -------------------------------- ----- 153.6/177.2 kB 399.3 kB/s eta 0:00:01\n",
      "   -------------------------------- ----- 153.6/177.2 kB 399.3 kB/s eta 0:00:01\n",
      "   -------------------------------- ----- 153.6/177.2 kB 399.3 kB/s eta 0:00:01\n",
      "   -------------------------------- ----- 153.6/177.2 kB 399.3 kB/s eta 0:00:01\n",
      "   -------------------------------- ----- 153.6/177.2 kB 399.3 kB/s eta 0:00:01\n",
      "   -------------------------------- ----- 153.6/177.2 kB 399.3 kB/s eta 0:00:01\n",
      "   -------------------------------- ----- 153.6/177.2 kB 399.3 kB/s eta 0:00:01\n",
      "   -------------------------------- ----- 153.6/177.2 kB 399.3 kB/s eta 0:00:01\n",
      "   -------------------------------- ----- 153.6/177.2 kB 399.3 kB/s eta 0:00:01\n",
      "   -------------------------------- ----- 153.6/177.2 kB 399.3 kB/s eta 0:00:01\n",
      "   -------------------------------- ----- 153.6/177.2 kB 399.3 kB/s eta 0:00:01\n",
      "   -------------------------------- ----- 153.6/177.2 kB 399.3 kB/s eta 0:00:01\n",
      "   -------------------------------- ----- 153.6/177.2 kB 399.3 kB/s eta 0:00:01\n",
      "   -------------------------------- ----- 153.6/177.2 kB 399.3 kB/s eta 0:00:01\n",
      "   -------------------------------- ----- 153.6/177.2 kB 399.3 kB/s eta 0:00:01\n",
      "   -------------------------------- ----- 153.6/177.2 kB 399.3 kB/s eta 0:00:01\n",
      "   -------------------------------- ----- 153.6/177.2 kB 399.3 kB/s eta 0:00:01\n",
      "   -------------------------------- ----- 153.6/177.2 kB 399.3 kB/s eta 0:00:01\n",
      "   -------------------------------------  174.1/177.2 kB 114.0 kB/s eta 0:00:01\n",
      "   -------------------------------------  174.1/177.2 kB 114.0 kB/s eta 0:00:01\n",
      "   -------------------------------------  174.1/177.2 kB 114.0 kB/s eta 0:00:01\n",
      "   -------------------------------------- 177.2/177.2 kB 106.9 kB/s eta 0:00:00\n",
      "Downloading interchange-2021.0.4-py2.py3-none-any.whl (28 kB)\n",
      "Downloading pansi-2020.7.3-py2.py3-none-any.whl (10 kB)\n",
      "Downloading monotonic-1.6-py2.py3-none-any.whl (8.2 kB)\n",
      "Installing collected packages: monotonic, pansi, interchange, py2neo\n",
      "Successfully installed interchange-2021.0.4 monotonic-1.6 pansi-2020.7.3 py2neo-2021.2.4\n"
     ]
    }
   ],
   "source": [
    "!pip install py2neo"
   ]
  },
  {
   "cell_type": "markdown",
   "id": "f66122f1-8bb1-47cb-8f55-c319e9493d75",
   "metadata": {},
   "source": [
    "## Importation de modules"
   ]
  },
  {
   "cell_type": "code",
   "execution_count": 35,
   "id": "b2ee81ab-6deb-4ed1-a1d3-bd672bf4c3af",
   "metadata": {},
   "outputs": [],
   "source": [
    "from py2neo import Graph, Node, Relationship"
   ]
  },
  {
   "cell_type": "code",
   "execution_count": 36,
   "id": "092cfaf8-4e95-462d-a9ca-a0201c22a6f0",
   "metadata": {
    "scrolled": true
   },
   "outputs": [
    {
     "data": {
      "text/plain": [
       "Graph('bolt://localhost:7687')"
      ]
     },
     "execution_count": 36,
     "metadata": {},
     "output_type": "execute_result"
    }
   ],
   "source": [
    "url = \"bolt://localhost:7687\"\n",
    "username = \"neo4j\"\n",
    "password = \"password\"\n",
    "\n",
    "graph = Graph(url, auth=(username, password))\n",
    "graph "
   ]
  },
  {
   "cell_type": "markdown",
   "id": "7548553d-bf62-443f-8d42-203fe5b17d77",
   "metadata": {},
   "source": [
    "## Create User Class"
   ]
  },
  {
   "cell_type": "code",
   "execution_count": 37,
   "id": "2dc8cc3f-5710-4300-a090-4b99e9d38407",
   "metadata": {},
   "outputs": [],
   "source": [
    "class User:\n",
    "    def __init__(self, name, age):\n",
    "        self.name = name\n",
    "        self.age = age"
   ]
  },
  {
   "cell_type": "markdown",
   "id": "c8e43ea3-6e37-417c-a3ca-4e6f9fe90180",
   "metadata": {},
   "source": [
    "## Create Post Class"
   ]
  },
  {
   "cell_type": "code",
   "execution_count": 38,
   "id": "cb2b3b6f-90b0-4a1f-8b4a-6ed120083b33",
   "metadata": {},
   "outputs": [],
   "source": [
    "class Post:\n",
    "    def __init__(self, content):\n",
    "        self.content = content"
   ]
  },
  {
   "cell_type": "markdown",
   "id": "f6eea06d-730c-4aa8-beb0-d2e4736ddc50",
   "metadata": {},
   "source": [
    "## Create SocialMediaPlatform Class"
   ]
  },
  {
   "cell_type": "code",
   "execution_count": 39,
   "id": "5260f1bd-ce12-4df7-a01f-0bec9e5c93eb",
   "metadata": {},
   "outputs": [],
   "source": [
    "class SocialMediaPlatform:\n",
    "    def __init__(self, name):\n",
    "        self.name = name"
   ]
  },
  {
   "cell_type": "markdown",
   "id": "d12824eb-f329-43e8-9040-6cab2e5e426d",
   "metadata": {},
   "source": [
    "## Create instances of users"
   ]
  },
  {
   "cell_type": "code",
   "execution_count": 40,
   "id": "9fdfe0e4-539f-4dcd-a98a-0eda3da83e0f",
   "metadata": {},
   "outputs": [],
   "source": [
    "alice = User(\"Mouad El Ammari\", 30)\n",
    "bob = User(\"Abdelfattah Bouhlali\", 25)\n",
    "charlie = User(\"Jafar Kamal\", 35)"
   ]
  },
  {
   "cell_type": "markdown",
   "id": "c08de482-a3ca-485e-a86d-3ec311405a51",
   "metadata": {},
   "source": [
    "## Create instances of social media platforms "
   ]
  },
  {
   "cell_type": "code",
   "execution_count": 41,
   "id": "0f6a3331-1fb6-40a5-875f-a7551c8de2b4",
   "metadata": {},
   "outputs": [],
   "source": [
    "facebook = SocialMediaPlatform(\"Facebook\")\n",
    "twitter = SocialMediaPlatform(\"Twitter\")\n",
    "instagram = SocialMediaPlatform(\"Instagram\")"
   ]
  },
  {
   "cell_type": "markdown",
   "id": "ebe644db-1531-4fcf-a50f-39bb6bcd3a0e",
   "metadata": {},
   "source": [
    "## Create instances of posts"
   ]
  },
  {
   "cell_type": "code",
   "execution_count": 42,
   "id": "67d1a257-b221-4385-82f9-30e251aa2e89",
   "metadata": {},
   "outputs": [],
   "source": [
    "post1 = Post(\"Had a great time at the beach today! #sunshine\")\n",
    "post2 = Post(\"Just started my new job, feeling excited! #newbeginnings\")\n",
    "post3 = Post(\"Attended a networking event and made some valuable connections.\")"
   ]
  },
  {
   "cell_type": "markdown",
   "id": "e82f54b7-1ae3-4295-8323-9e5d6f793ecf",
   "metadata": {},
   "source": [
    "## Create nodes for social media platforms"
   ]
  },
  {
   "cell_type": "code",
   "execution_count": 43,
   "id": "14ec91ba-a162-403d-98c1-6dfadc5c9c44",
   "metadata": {},
   "outputs": [],
   "source": [
    "for platform in [facebook, twitter, instagram, linkedin]:\n",
    "    platform_node = Node(\"Platform\", name=platform.name)\n",
    "    graph.create(platform_node)"
   ]
  },
  {
   "cell_type": "markdown",
   "id": "11997ecd-8aaf-4bde-af33-b2f22f5ba95e",
   "metadata": {},
   "source": [
    "## Create nodes for users"
   ]
  },
  {
   "cell_type": "code",
   "execution_count": 44,
   "id": "92f604c4-9246-43cf-b372-3c7560abbcb0",
   "metadata": {},
   "outputs": [],
   "source": [
    "for user in [alice, bob, charlie]:\n",
    "    user_node = Node(\"User\", name=user.name, age=user.age)\n",
    "    graph.create(user_node)"
   ]
  },
  {
   "cell_type": "markdown",
   "id": "a215118d-238e-48a4-bdd2-ed5a9eeee5f1",
   "metadata": {},
   "source": [
    "## Create nodes for posts"
   ]
  },
  {
   "cell_type": "code",
   "execution_count": 45,
   "id": "0b9dca44-e3ef-4f16-bb4c-fde243779f03",
   "metadata": {},
   "outputs": [],
   "source": [
    "for post in [post1, post2, post3]:\n",
    "    post_node = Node(\"Post\", content=post.content)\n",
    "    graph.create(post_node)"
   ]
  },
  {
   "cell_type": "markdown",
   "id": "29c573a8-bfe8-4408-9af4-39467b82c7d0",
   "metadata": {},
   "source": [
    "## Create relationships between users and platforms"
   ]
  },
  {
   "cell_type": "code",
   "execution_count": 46,
   "id": "cd9967d9-abf1-4f5b-9a08-b1f0f131e531",
   "metadata": {},
   "outputs": [
    {
     "data": {
      "text/html": [
       "(No data)"
      ],
      "text/plain": [
       "(No data)"
      ]
     },
     "execution_count": 46,
     "metadata": {},
     "output_type": "execute_result"
    }
   ],
   "source": [
    "graph.run(\"MATCH (u:User {name: 'Mouad El Ammari'}), (p:Platform {name: 'Facebook'}) CREATE (u)-[:USES]->(p)\")\n",
    "graph.run(\"MATCH (u:User {name: 'Abdelfattah Bouhlali'}), (p:Platform {name: 'Twitter'}) CREATE (u)-[:USES]->(p)\")\n",
    "graph.run(\"MATCH (u:User {name: 'Jafar Kamal'}), (p:Platform {name: 'Instagram'}) CREATE (u)-[:USES]->(p)\")"
   ]
  },
  {
   "cell_type": "markdown",
   "id": "e29ce30b-b2c1-4bfe-b7dc-e4b19a22f388",
   "metadata": {},
   "source": [
    "## Create relationships between users and posts"
   ]
  },
  {
   "cell_type": "code",
   "execution_count": 47,
   "id": "38acebc3-3992-468e-a122-87c36e017c14",
   "metadata": {
    "scrolled": true
   },
   "outputs": [
    {
     "data": {
      "text/html": [
       "(No data)"
      ],
      "text/plain": [
       "(No data)"
      ]
     },
     "execution_count": 47,
     "metadata": {},
     "output_type": "execute_result"
    }
   ],
   "source": [
    "graph.run(\"MATCH (u:User {name: 'Mouad El Ammari'}), (p:Post {content: 'Had a great time at the beach today! #sunshine'}) CREATE (u)-[:POSTED]->(p)\")\n",
    "graph.run(\"MATCH (u:User {name: 'Abdelfattah Bouhlali'}), (p:Post {content: 'Just started my new job, feeling excited! #newbeginnings'}) CREATE (u)-[:POSTED]->(p)\")\n",
    "graph.run(\"MATCH (u:User {name: 'Jafar Kamal'}), (p:Post {content: 'Attended a networking event and made some valuable connections.'}) CREATE (u)-[:POSTED]->(p)\")"
   ]
  },
  {
   "cell_type": "markdown",
   "id": "08f35320-bb0f-47e8-ba8d-de52f5563501",
   "metadata": {},
   "source": [
    "## Query to find all users and their age"
   ]
  },
  {
   "cell_type": "code",
   "execution_count": 49,
   "id": "6f499f53-f0dd-41a7-a632-cd72ef5f7726",
   "metadata": {
    "scrolled": true
   },
   "outputs": [
    {
     "name": "stdout",
     "output_type": "stream",
     "text": [
      "All users and their age:\n",
      "Mouad El Ammari - 30\n",
      "Abdelfattah Bouhlali - 25\n",
      "Jafar Kamal - 35\n"
     ]
    }
   ],
   "source": [
    "query = \"\"\"\n",
    "MATCH (u:User)\n",
    "RETURN u.name AS Name, u.age AS Age\n",
    "\"\"\"\n",
    "\n",
    "print(\"All users and their age:\")\n",
    "result = graph.run(query)\n",
    "for record in result:\n",
    "    print(record[\"Name\"], \"-\", record[\"Age\"])"
   ]
  },
  {
   "cell_type": "markdown",
   "id": "e2124d66-f441-4f9c-a2a6-65c875cb0798",
   "metadata": {},
   "source": [
    "## Query to find all posts and their content"
   ]
  },
  {
   "cell_type": "code",
   "execution_count": 50,
   "id": "3600b001-da07-4aac-8f75-016c12aa4238",
   "metadata": {
    "scrolled": true
   },
   "outputs": [
    {
     "name": "stdout",
     "output_type": "stream",
     "text": [
      "\n",
      "All posts:\n",
      "Had a great time at the beach today! #sunshine\n",
      "Just started my new job, feeling excited! #newbeginnings\n",
      "Attended a networking event and made some valuable connections.\n"
     ]
    }
   ],
   "source": [
    "query = \"\"\"\n",
    "MATCH (p:Post)\n",
    "RETURN p.content AS Content\n",
    "\"\"\"\n",
    "\n",
    "print(\"\\nAll posts:\")\n",
    "result = graph.run(query)\n",
    "for record in result:\n",
    "    print(record[\"Content\"])"
   ]
  },
  {
   "cell_type": "markdown",
   "id": "ba091f86-82ce-467f-a60c-91afbc5af536",
   "metadata": {},
   "source": [
    "## Query to find users who posted a specific content"
   ]
  },
  {
   "cell_type": "code",
   "execution_count": 51,
   "id": "16fe808a-1fdd-4048-bacb-8212105db377",
   "metadata": {
    "scrolled": true
   },
   "outputs": [
    {
     "name": "stdout",
     "output_type": "stream",
     "text": [
      "\n",
      "Users who posted 'Just started my new job, feeling excited! #newbeginnings':\n",
      "Abdelfattah Bouhlali\n"
     ]
    }
   ],
   "source": [
    "query = \"\"\"\n",
    "MATCH (u:User)-[:POSTED]->(p:Post {content: 'Just started my new job, feeling excited! #newbeginnings'})\n",
    "RETURN u.name AS Name\n",
    "\"\"\"\n",
    "\n",
    "print(\"\\nUsers who posted 'Just started my new job, feeling excited! #newbeginnings':\")\n",
    "result = graph.run(query)\n",
    "for record in result:\n",
    "    print(record[\"Name\"])"
   ]
  },
  {
   "cell_type": "markdown",
   "id": "2835177f-583b-484d-abb6-2814ca636748",
   "metadata": {},
   "source": [
    "<center> <h2> Thanks for reading ! </h2> </center>"
   ]
  }
 ],
 "metadata": {
  "kernelspec": {
   "display_name": "Python 3 (ipykernel)",
   "language": "python",
   "name": "python3"
  },
  "language_info": {
   "codemirror_mode": {
    "name": "ipython",
    "version": 3
   },
   "file_extension": ".py",
   "mimetype": "text/x-python",
   "name": "python",
   "nbconvert_exporter": "python",
   "pygments_lexer": "ipython3",
   "version": "3.12.2"
  }
 },
 "nbformat": 4,
 "nbformat_minor": 5
}
